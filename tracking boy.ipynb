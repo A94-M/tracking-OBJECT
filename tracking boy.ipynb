{
 "cells": [
  {
   "cell_type": "code",
   "execution_count": 20,
   "id": "dc0cdd0e-1e1c-444f-ae5a-4e5714ed10fd",
   "metadata": {},
   "outputs": [
    {
     "name": "stdout",
     "output_type": "stream",
     "text": [
      "^C\n",
      "Note: you may need to restart the kernel to use updated packages.\n"
     ]
    }
   ],
   "source": [
    "pip uninstall opencv-contrib-python "
   ]
  },
  {
   "cell_type": "code",
   "execution_count": 25,
   "id": "e86c5685-9a6c-47f7-97d5-6d785860d63c",
   "metadata": {},
   "outputs": [
    {
     "name": "stdout",
     "output_type": "stream",
     "text": [
      "Requirement already satisfied: opencv-python in c:\\users\\dr\\appdata\\local\\programs\\python\\python312\\lib\\site-packages (4.9.0.80)\n",
      "Requirement already satisfied: numpy>=1.21.2 in c:\\users\\dr\\appdata\\local\\programs\\python\\python312\\lib\\site-packages (from opencv-python) (1.26.3)\n"
     ]
    }
   ],
   "source": [
    "!pip install opencv-python "
   ]
  },
  {
   "cell_type": "code",
   "execution_count": 23,
   "id": "adcfaf86-2c9d-4e7c-8d16-a32179849ed3",
   "metadata": {},
   "outputs": [],
   "source": [
    "import cv2\n",
    "import imutils"
   ]
  },
  {
   "cell_type": "code",
   "execution_count": 15,
   "id": "6331b317-5b3a-4f3d-9dd2-2f0d13625891",
   "metadata": {},
   "outputs": [],
   "source": [
    "# TrackerDirt={'csrt':cv2.TrackerCSRT_create,\n",
    "#              'Kcf':cv2.TrackerKCF_create,\n",
    "#             'boost':cv2.TrackerBOOSTING_create\n",
    "#             }\n",
    "#mosse ,medianflow"
   ]
  },
  {
   "cell_type": "code",
   "execution_count": 24,
   "id": "0e4476e2-fbba-44d8-9711-2925bcdc216b",
   "metadata": {},
   "outputs": [
    {
     "ename": "AttributeError",
     "evalue": "module 'cv2' has no attribute 'TrackerCSRT_create'",
     "output_type": "error",
     "traceback": [
      "\u001b[1;31m---------------------------------------------------------------------------\u001b[0m",
      "\u001b[1;31mAttributeError\u001b[0m                            Traceback (most recent call last)",
      "Cell \u001b[1;32mIn[24], line 1\u001b[0m\n\u001b[1;32m----> 1\u001b[0m tracker\u001b[38;5;241m=\u001b[39m\u001b[43mcv2\u001b[49m\u001b[38;5;241;43m.\u001b[39;49m\u001b[43mTrackerCSRT_create\u001b[49m()\n\u001b[0;32m      2\u001b[0m \u001b[38;5;66;03m#read the video\u001b[39;00m\n\u001b[0;32m      3\u001b[0m cap\u001b[38;5;241m=\u001b[39mcv2\u001b[38;5;241m.\u001b[39mVideoCapture()\n",
      "\u001b[1;31mAttributeError\u001b[0m: module 'cv2' has no attribute 'TrackerCSRT_create'"
     ]
    }
   ],
   "source": [
    "tracker=cv2.TrackerCSRT_create()\n",
    "#read the video\n",
    "cap=cv2.VideoCapture()\n",
    "ret,frame=cap.read()\n",
    "frame=imutils.resize(frame,width=499)\n",
    "cv2.imshow('frame',frame)\n",
    "# tracking the object \n",
    "bbox = cv2.selectROI(frame)  #bounding box\n",
    "#initialize the tracker with Bbox surround the target\n",
    "tracker.init(frame, bbox)   # frame and bounding box\n",
    "\n",
    "cv2.waitKey(0)\n",
    "cv2.destroyAllWindows()"
   ]
  },
  {
   "cell_type": "code",
   "execution_count": null,
   "id": "a50df136-6fd1-4ac5-9549-a355d099ce84",
   "metadata": {},
   "outputs": [],
   "source": [
    "while True:   \n",
    "    frame_id = 0 \n",
    "    ret, frame = cap.read() \n",
    "    success, bbox = tracker.update(frame)    \n",
    "    print(bbox,'  ', success)\n",
    "    if success:\n",
    "        x, y, w, h = [int(i) for i in bbox]\n",
    "        cv2.rectangle(frame, (x, y), (x + w, y + h), (255, 0, 0), 2)    \n",
    "    cv2.imshow(\"Tracking\", frame)    \n",
    "    if cv2.waitKey(1) & 0xFF == ord('q'):\n",
    "        break\n",
    "cap.release()\n",
    "cv2.destroyAllWindows()"
   ]
  }
 ],
 "metadata": {
  "kernelspec": {
   "display_name": "Python 3 (ipykernel)",
   "language": "python",
   "name": "python3"
  },
  "language_info": {
   "codemirror_mode": {
    "name": "ipython",
    "version": 3
   },
   "file_extension": ".py",
   "mimetype": "text/x-python",
   "name": "python",
   "nbconvert_exporter": "python",
   "pygments_lexer": "ipython3",
   "version": "3.12.0"
  }
 },
 "nbformat": 4,
 "nbformat_minor": 5
}
